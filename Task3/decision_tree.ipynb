{
 "cells": [
  {
   "cell_type": "code",
   "execution_count": 6,
   "metadata": {},
   "outputs": [
    {
     "name": "stdout",
     "output_type": "stream",
     "text": [
      "757\n"
     ]
    }
   ],
   "source": [
    "import numpy as np\n",
    "import pandas as pd\n",
    "from collections import Counter\n",
    "from sklearn.metrics import accuracy_score,f1_score\n",
    "from sklearn.preprocessing import StandardScaler\n",
    "col_names = ['x_1','x_2','y']\n",
    "\n",
    "data = pd.read_csv(\"ds1_train.csv\", skiprows=1, header=None, names=col_names)\n",
    "data['x_2'] = np.log(data['x_2'])\n",
    "threshold = 2.2\n",
    "\n",
    "# Remove outliers from the first two columns and keep the last column unchanged\n",
    "filtered_rows = (abs(data['x_1'] -data['x_1'].mean()) <= threshold * data['x_1'].std()) & \\\n",
    "                (abs(data['x_2'] - data['x_2'].mean()) <= threshold * data['x_2'].std())\n",
    "data = data[filtered_rows]\n",
    "data1= pd.read_csv(\"ds1_test.csv\", skiprows=1, header=None, names=col_names)\n",
    "data1['x_2']=np.log(data1['x_2'])\n",
    "data.head(10)\n",
    "print(len(data))"
   ]
  },
  {
   "cell_type": "code",
   "execution_count": 7,
   "metadata": {},
   "outputs": [],
   "source": [
    "class Node():\n",
    "    def __init__(self,f_index=None,threshold=None,left=None,right=None,*,value=None):\n",
    "        self.f_index=f_index\n",
    "        self.left=left\n",
    "        self.right=right\n",
    "        self.threshold=threshold\n",
    "        self.value=value\n",
    "    def is_leaf(self):\n",
    "            return self.value is not None\n",
    "        "
   ]
  },
  {
   "cell_type": "code",
   "execution_count": 8,
   "metadata": {},
   "outputs": [],
   "source": [
    "class Descison_Tree():\n",
    "    def __init__(self,depth=5,min_split=3,n_features=None):\n",
    "        self.depth=depth\n",
    "        self.min_split=min_split\n",
    "        self.n_features=n_features\n",
    "        self.root=None\n",
    "    def fit(self,dataset):\n",
    "        X=dataset[:,:-1]\n",
    "        self.n_features = X.shape[1] if not self.n_features else min(X.shape[1],self.n_features)\n",
    "        self.root=self.build(dataset)\n",
    "    def build(self,dataset,cur_depth=0):\n",
    "        X=dataset[:,:-1]\n",
    "        Y=dataset[:,-1]\n",
    "        n_labels=len(np.unique(Y))\n",
    "        n_sample,n_feats=np.shape(X)\n",
    "        if (n_sample<self.min_split or n_labels==1 or cur_depth>=self.depth):\n",
    "             lv=self.mcl(Y)\n",
    "             return Node(value=lv)\n",
    "        feat_idx=np.random.choice(n_feats,self.n_features,replace=False)\n",
    "        best_threshold,best_features=self.best_split(feat_idx,dataset)\n",
    "        X_col=X[:,best_features]\n",
    "        l_i,r_i=self.split(X_col,best_threshold)\n",
    "        left=self.build(dataset[l_i,:],cur_depth+1)\n",
    "        right=self.build(dataset[r_i,:],cur_depth+1)\n",
    "        return Node(best_features,best_threshold,left,right)\n",
    "    \n",
    "    def best_split(self,feat_idx, dataset):\n",
    "        best_gain = -1        \n",
    "        X = dataset[:, :-1]\n",
    "        Y = dataset[:, -1]\n",
    "        idx, thr = None, None\n",
    "        parent_entropy = self.entropy(Y)\n",
    "        \n",
    "        for i in feat_idx:\n",
    "            X_col = X[:, i]\n",
    "            unique_values = np.unique(X_col)\n",
    "            \n",
    "            for j in unique_values:\n",
    "                mask = X_col <= j\n",
    "                left_dataset = dataset[mask]\n",
    "                right_dataset = dataset[~mask]\n",
    "                \n",
    "                gain = self.info_gain(left_dataset[:, -1], right_dataset[:, -1],parent_entropy)\n",
    "                if gain > best_gain and gain > 0.01:\n",
    "                    idx = i\n",
    "                    thr = j\n",
    "                    best_gain = gain\n",
    "\n",
    "        return thr, idx\n",
    "    def info_gain(self,left_labels, right_labels,parent_entropy):\n",
    "      total_samples = len(left_labels) + len(right_labels)\n",
    "      if len(left_labels)==0 or len(right_labels)==0:\n",
    "          return 0\n",
    "      p_left = len(left_labels) / total_samples\n",
    "      p_right = len(right_labels) / total_samples\n",
    "    \n",
    "      return parent_entropy -(p_left * self.entropy(left_labels) + p_right *self. entropy(right_labels))\n",
    "    def mcl(self,Y):\n",
    "        counter = Counter(Y)\n",
    "        value = counter.most_common(1)[0][0]\n",
    "        return value\n",
    "        \n",
    "    def split(self,X_col,j):\n",
    "        l_i=np.where(X_col<=j)\n",
    "        r_i=np.where(X_col>j)\n",
    "        l_i=l_i[0].tolist()\n",
    "        r_i=r_i[0].tolist()\n",
    "        return l_i,r_i\n",
    "        \n",
    "    def entropy(self,Y):\n",
    "        Y=Y.astype(\"int64\")\n",
    "        _, counts = np.unique(Y, return_counts=True)\n",
    "        ps = counts / len(Y)\n",
    "        return -np.sum([p * np.log2(p) for p in ps if p > 0])\n",
    "    \n",
    "    def predict(self,X):\n",
    "        return np.array([self.traverse(x,self.root) for x in X])\n",
    "    def traverse(self,x,node):\n",
    "        if node.is_leaf():\n",
    "            return node.value\n",
    "        if x[node.f_index]<node.threshold:\n",
    "            return self.traverse(x,node.left)\n",
    "        return self.traverse(x,node.right)\n",
    "    "
   ]
  },
  {
   "cell_type": "code",
   "execution_count": 9,
   "metadata": {},
   "outputs": [
    {
     "name": "stdout",
     "output_type": "stream",
     "text": [
      "0.8823529411764707\n",
      "0.88\n"
     ]
    }
   ],
   "source": [
    "Dt=Descison_Tree(depth=5 ,min_split=5)\n",
    "Dt.fit(np.array(data))\n",
    "data1=np.array(data1)\n",
    "X=data1[:,:-1]\n",
    "y_true=data1[:,-1]\n",
    "y_pred=Dt.predict(X)\n",
    "print(f1_score(y_pred,y_true))\n",
    "print(accuracy_score(y_pred,y_true))"
   ]
  },
  {
   "cell_type": "code",
   "execution_count": 10,
   "metadata": {},
   "outputs": [],
   "source": [
    "costy=[]\n",
    "\n",
    "\n",
    "def HyperTune(evaluation):\n",
    "    p1,p2=0,0\n",
    "    c=.01\n",
    "    for i in range(1,9):\n",
    "        acc=0\n",
    "        for k in range(2,9):\n",
    "            for j in range(0,5):\n",
    "                data_temp=data\n",
    "                random_row = data_temp.sample(n=650)\n",
    "                rest= data_temp.drop(random_row.index).reset_index(drop=True)\n",
    "                random_row.reset_index(drop=True,inplace=True)\n",
    "                rest.reset_index(drop=True,inplace=True)\n",
    "                d1=data_temp\n",
    "                data_temp=np.array(d1)\n",
    "                rest=np.array(rest)\n",
    "                DT=Descison_Tree(min_split=i,depth=k)\n",
    "                DT.fit(data_temp)\n",
    "                y_pred=DT.predict(rest[:,:-1])\n",
    "                y_true=rest[:,-1]\n",
    "                if evaluation=='f1score':\n",
    "                    p=f1_score(y_pred,y_true)\n",
    "                else:\n",
    "                    p=accuracy_score(y_pred,y_true)\n",
    "                acc+=p\n",
    "            cost1=acc/5\n",
    "            acc=0\n",
    "            if c<cost1:\n",
    "                c=cost1\n",
    "                p1=i\n",
    "                p2=k\n",
    "            costy.append(cost1)\n",
    "    return p1,p2\n"
   ]
  },
  {
   "cell_type": "code",
   "execution_count": 11,
   "metadata": {},
   "outputs": [
    {
     "name": "stdout",
     "output_type": "stream",
     "text": [
      "(5, 7)\n"
     ]
    }
   ],
   "source": [
    "print(HyperTune(\"f1score\"))"
   ]
  },
  {
   "cell_type": "code",
   "execution_count": 29,
   "metadata": {},
   "outputs": [
    {
     "data": {
      "image/png": "[encoded data removed]",
      "text/plain": [
       "<Figure size 700x350 with 1 Axes>"
      ]
     },
     "metadata": {},
     "output_type": "display_data"
    }
   ],
   "source": [
    "import matplotlib.pyplot as plt\n",
    "plt.rcParams[\"figure.figsize\"] = [7.00, 3.50]\n",
    "plt.rcParams[\"figure.autolayout\"] = True\n",
    "x=[]\n",
    "for i in range(1,9):\n",
    "    for j in range(2,9):\n",
    "        x.append((i,j))\n",
    "y3 = costy\n",
    "default_x_ticks = range(len(x))\n",
    "plt.plot(range(1, len(x) + 1), y3, marker='x', linestyle='--', color='r', label='List Data')\n",
    "plt.xticks(default_x_ticks, x,rotation='vertical')\n",
    "plt.show()"
   ]
  },
  {
   "cell_type": "code",
   "execution_count": 35,
   "metadata": {},
   "outputs": [
    {
     "name": "stdout",
     "output_type": "stream",
     "text": [
      "0.8910891089108911\n",
      "0.89\n"
     ]
    }
   ],
   "source": [
    "Dt=Descison_Tree(depth=5 ,min_split=7)\n",
    "data=np.array(data)\n",
    "Dt.fit(data)\n",
    "data1=np.array(data1)\n",
    "X=data1[:,:-1]\n",
    "y_true=data1[:,-1]\n",
    "y_pred=Dt.predict(X)\n",
    "print(f1_score(y_pred,y_true))\n",
    "print(accuracy_score(y_pred,y_true))\n"
   ]
  },
  {
   "cell_type": "code",
   "execution_count": 28,
   "metadata": {},
   "outputs": [],
   "source": [
    "#tunning by dividing X_train into a validation and training data and evalutaion 5 times and taking average\n"
   ]
  },
  {
   "cell_type": "code",
   "execution_count": 168,
   "metadata": {},
   "outputs": [],
   "source": [
    "\n"
   ]
  },
  {
   "cell_type": "code",
   "execution_count": 169,
   "metadata": {},
   "outputs": [
    {
     "name": "stdout",
     "output_type": "stream",
     "text": [
      "0\n",
      "0\n",
      "0\n",
      "0\n",
      "0\n",
      "0\n",
      "0\n",
      "0\n",
      "0\n",
      "0\n",
      "0\n",
      "0\n",
      "0\n",
      "0\n",
      "0\n",
      "0\n",
      "0\n",
      "0\n",
      "0\n",
      "0\n",
      "0\n",
      "0\n",
      "0\n",
      "0\n",
      "0\n",
      "0\n",
      "0\n",
      "0\n",
      "0\n",
      "0\n",
      "0\n",
      "0\n",
      "0\n",
      "0\n",
      "0\n",
      "0\n",
      "0\n",
      "0\n",
      "0\n",
      "0\n",
      "0\n",
      "0\n",
      "0\n",
      "0\n",
      "0\n",
      "0\n",
      "0\n",
      "0\n",
      "0\n",
      "0\n",
      "0\n",
      "0\n",
      "0\n",
      "0\n",
      "0\n",
      "0\n",
      "0\n",
      "0\n",
      "0\n",
      "0\n",
      "0\n",
      "0\n",
      "0\n",
      "0\n",
      "0\n",
      "0\n",
      "0\n",
      "0\n",
      "0\n",
      "0\n",
      "0\n",
      "0\n",
      "0\n",
      "0\n",
      "0\n",
      "0\n",
      "0\n",
      "0\n",
      "0\n",
      "0\n",
      "0\n",
      "0\n",
      "0\n",
      "0\n",
      "0\n",
      "0\n",
      "0\n",
      "0\n",
      "0\n",
      "0\n",
      "0\n",
      "0\n",
      "0\n",
      "0\n",
      "0\n",
      "0\n",
      "0\n",
      "0\n",
      "0\n",
      "0\n",
      "0\n",
      "0\n",
      "0\n",
      "0\n",
      "0\n",
      "0\n",
      "0\n",
      "0\n",
      "0\n",
      "0\n",
      "0\n",
      "0\n",
      "0\n",
      "0\n",
      "0\n",
      "0\n",
      "0\n",
      "0\n",
      "0\n",
      "0\n",
      "0\n",
      "0\n",
      "0\n",
      "0\n",
      "0\n",
      "0\n",
      "0\n",
      "0\n",
      "0\n",
      "0\n",
      "0\n",
      "0\n",
      "0\n",
      "0\n",
      "0\n",
      "0\n",
      "0\n",
      "0\n",
      "0\n",
      "0\n",
      "0\n",
      "0\n",
      "0\n",
      "0\n",
      "0\n",
      "None\n"
     ]
    }
   ],
   "source": []
  },
  {
   "cell_type": "code",
   "execution_count": 150,
   "metadata": {},
   "outputs": [
    {
     "data": {
      "text/html": [
       "<style>#sk-container-id-2 {color: black;background-color: white;}#sk-container-id-2 pre{padding: 0;}#sk-container-id-2 div.sk-toggleable {background-color: white;}#sk-container-id-2 label.sk-toggleable__label {cursor: pointer;display: block;width: 100%;margin-bottom: 0;padding: 0.3em;box-sizing: border-box;text-align: center;}#sk-container-id-2 label.sk-toggleable__label-arrow:before {content: \"▸\";float: left;margin-right: 0.25em;color: #696969;}#sk-container-id-2 label.sk-toggleable__label-arrow:hover:before {color: black;}#sk-container-id-2 div.sk-estimator:hover label.sk-toggleable__label-arrow:before {color: black;}#sk-container-id-2 div.sk-toggleable__content {max-height: 0;max-width: 0;overflow: hidden;text-align: left;background-color: #f0f8ff;}#sk-container-id-2 div.sk-toggleable__content pre {margin: 0.2em;color: black;border-radius: 0.25em;background-color: #f0f8ff;}#sk-container-id-2 input.sk-toggleable__control:checked~div.sk-toggleable__content {max-height: 200px;max-width: 100%;overflow: auto;}#sk-container-id-2 input.sk-toggleable__control:checked~label.sk-toggleable__label-arrow:before {content: \"▾\";}#sk-container-id-2 div.sk-estimator input.sk-toggleable__control:checked~label.sk-toggleable__label {background-color: #d4ebff;}#sk-container-id-2 div.sk-label input.sk-toggleable__control:checked~label.sk-toggleable__label {background-color: #d4ebff;}#sk-container-id-2 input.sk-hidden--visually {border: 0;clip: rect(1px 1px 1px 1px);clip: rect(1px, 1px, 1px, 1px);height: 1px;margin: -1px;overflow: hidden;padding: 0;position: absolute;width: 1px;}#sk-container-id-2 div.sk-estimator {font-family: monospace;background-color: #f0f8ff;border: 1px dotted black;border-radius: 0.25em;box-sizing: border-box;margin-bottom: 0.5em;}#sk-container-id-2 div.sk-estimator:hover {background-color: #d4ebff;}#sk-container-id-2 div.sk-parallel-item::after {content: \"\";width: 100%;border-bottom: 1px solid gray;flex-grow: 1;}#sk-container-id-2 div.sk-label:hover label.sk-toggleable__label {background-color: #d4ebff;}#sk-container-id-2 div.sk-serial::before {content: \"\";position: absolute;border-left: 1px solid gray;box-sizing: border-box;top: 0;bottom: 0;left: 50%;z-index: 0;}#sk-container-id-2 div.sk-serial {display: flex;flex-direction: column;align-items: center;background-color: white;padding-right: 0.2em;padding-left: 0.2em;position: relative;}#sk-container-id-2 div.sk-item {position: relative;z-index: 1;}#sk-container-id-2 div.sk-parallel {display: flex;align-items: stretch;justify-content: center;background-color: white;position: relative;}#sk-container-id-2 div.sk-item::before, #sk-container-id-2 div.sk-parallel-item::before {content: \"\";position: absolute;border-left: 1px solid gray;box-sizing: border-box;top: 0;bottom: 0;left: 50%;z-index: -1;}#sk-container-id-2 div.sk-parallel-item {display: flex;flex-direction: column;z-index: 1;position: relative;background-color: white;}#sk-container-id-2 div.sk-parallel-item:first-child::after {align-self: flex-end;width: 50%;}#sk-container-id-2 div.sk-parallel-item:last-child::after {align-self: flex-start;width: 50%;}#sk-container-id-2 div.sk-parallel-item:only-child::after {width: 0;}#sk-container-id-2 div.sk-dashed-wrapped {border: 1px dashed gray;margin: 0 0.4em 0.5em 0.4em;box-sizing: border-box;padding-bottom: 0.4em;background-color: white;}#sk-container-id-2 div.sk-label label {font-family: monospace;font-weight: bold;display: inline-block;line-height: 1.2em;}#sk-container-id-2 div.sk-label-container {text-align: center;}#sk-container-id-2 div.sk-container {/* jupyter's `normalize.less` sets `[hidden] { display: none; }` but bootstrap.min.css set `[hidden] { display: none !important; }` so we also need the `!important` here to be able to override the default hidden behavior on the sphinx rendered scikit-learn.org. See: https://github.com/scikit-learn/scikit-learn/issues/21755 */display: inline-block !important;position: relative;}#sk-container-id-2 div.sk-text-repr-fallback {display: none;}</style><div id=\"sk-container-id-2\" class=\"sk-top-container\"><div class=\"sk-text-repr-fallback\"><pre>DecisionTreeClassifier(random_state=42)</pre><b>In a Jupyter environment, please rerun this cell to show the HTML representation or trust the notebook. <br />On GitHub, the HTML representation is unable to render, please try loading this page with nbviewer.org.</b></div><div class=\"sk-container\" hidden><div class=\"sk-item\"><div class=\"sk-estimator sk-toggleable\"><input class=\"sk-toggleable__control sk-hidden--visually\" id=\"sk-estimator-id-2\" type=\"checkbox\" checked><label for=\"sk-estimator-id-2\" class=\"sk-toggleable__label sk-toggleable__label-arrow\">DecisionTreeClassifier</label><div class=\"sk-toggleable__content\"><pre>DecisionTreeClassifier(random_state=42)</pre></div></div></div></div></div>"
      ],
      "text/plain": [
       "DecisionTreeClassifier(random_state=42)"
      ]
     },
     "execution_count": 150,
     "metadata": {},
     "output_type": "execute_result"
    }
   ],
   "source": [
    "from sklearn.tree import DecisionTreeClassifier\n",
    "tree_classifier = DecisionTreeClassifier(random_state=42)\n",
    "X_train=data[:,:-1]\n",
    "Y_train=data[:,-1]\n",
    "tree_classifier.fit(X_train,Y_train)"
   ]
  },
  {
   "cell_type": "code",
   "execution_count": 151,
   "metadata": {},
   "outputs": [],
   "source": [
    "y_pred = tree_classifier.predict(X)"
   ]
  },
  {
   "cell_type": "code",
   "execution_count": 153,
   "metadata": {},
   "outputs": [
    {
     "name": "stdout",
     "output_type": "stream",
     "text": [
      "0.88\n"
     ]
    }
   ],
   "source": [
    "print(accuracy_score(y_pred,y_true))"
   ]
  },
  {
   "cell_type": "code",
   "execution_count": null,
   "metadata": {},
   "outputs": [],
   "source": []
  },
  {
   "cell_type": "code",
   "execution_count": null,
   "metadata": {},
   "outputs": [],
   "source": []
  },
  {
   "cell_type": "code",
   "execution_count": null,
   "metadata": {},
   "outputs": [],
   "source": []
  },
  {
   "cell_type": "code",
   "execution_count": null,
   "metadata": {},
   "outputs": [],
   "source": []
  },
  {
   "cell_type": "code",
   "execution_count": null,
   "metadata": {},
   "outputs": [],
   "source": []
  },
  {
   "cell_type": "code",
   "execution_count": null,
   "metadata": {},
   "outputs": [],
   "source": []
  },
  {
   "cell_type": "code",
   "execution_count": null,
   "metadata": {},
   "outputs": [],
   "source": []
  }
 ],
 "metadata": {
  "kernelspec": {
   "display_name": "Python 3",
   "language": "python",
   "name": "python3"
  },
  "language_info": {
   "codemirror_mode": {
    "name": "ipython",
    "version": 3
   },
   "file_extension": ".py",
   "mimetype": "text/x-python",
   "name": "python",
   "nbconvert_exporter": "python",
   "pygments_lexer": "ipython3",
   "version": "3.11.4"
  },
  "orig_nbformat": 4
 },
 "nbformat": 4,
 "nbformat_minor": 2
}
